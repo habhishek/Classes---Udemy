{
 "cells": [
  {
   "cell_type": "code",
   "execution_count": 10,
   "metadata": {},
   "outputs": [
    {
     "name": "stdout",
     "output_type": "stream",
     "text": [
      "Account created for Harsh\n",
      "Balance is 0\n",
      "Balance is 1000\n",
      "Balance is 800\n",
      "The amount must be greater than zero and no more than your account balance\n",
      "Balance is 800\n",
      "1000 Deposited on 2019-09-07 17:14:15.574084+00:00 (local time was 2019-09-07 22:44:15.574084+05:30)\n",
      "-200 Withdrawn on 2019-09-07 17:14:15.574101+00:00 (local time was 2019-09-07 22:44:15.574101+05:30)\n"
     ]
    }
   ],
   "source": [
    "import datetime\n",
    "import pytz\n",
    "\n",
    "class Account:\n",
    "    \"\"\"Simple account class with balance\"\"\"\n",
    "    \n",
    "    @staticmethod\n",
    "    def _current_time():\n",
    "        utctime = datetime.datetime.utcnow()\n",
    "        return pytz.utc.localize(utctime)\n",
    "    \n",
    "    def __init__(self, name, balance):\n",
    "        self.name = name\n",
    "        self.balance = balance\n",
    "        self.transaction_list = []\n",
    "        print(\"Account created for \" + self.name)\n",
    "        \n",
    "    def desposit(self, amount):\n",
    "        if amount > 0:\n",
    "            self.balance += amount\n",
    "            self.show_balance()\n",
    "            self.transaction_list.append((Account._current_time(), amount))\n",
    "    \n",
    "    def withdraw(self, amount):\n",
    "        if 0 < amount <= self.balance:\n",
    "            self.balance -= amount\n",
    "            self.transaction_list.append((Account._current_time(), -amount))\n",
    "        else:\n",
    "            print(\"The amount must be greater than zero and no more than your account balance\")\n",
    "        self.show_balance()\n",
    "    \n",
    "    def show_balance(self):\n",
    "        print(\"Balance is {}\".format(self.balance))\n",
    "        \n",
    "    def show_transactions(self):\n",
    "        for date, amount in self.transaction_list:\n",
    "            if amount > 0:\n",
    "                tran_type = \"Deposited\"\n",
    "            else:\n",
    "                tran_type = \"Withdrawn\"\n",
    "            print('{} {} on {} (local time was {})'.format(amount, tran_type, date, date.astimezone()))\n",
    "\n",
    "\n",
    "if __name__ == '__main__':\n",
    "    harsh = Account(\"Harsh\", 0)\n",
    "    harsh.show_balance()\n",
    "    \n",
    "    harsh.desposit(1000)\n",
    "    \n",
    "    harsh.withdraw(200)\n",
    "    \n",
    "    harsh.withdraw(50000)\n",
    "    \n",
    "    harsh.show_transactions()"
   ]
  },
  {
   "cell_type": "code",
   "execution_count": null,
   "metadata": {},
   "outputs": [],
   "source": []
  }
 ],
 "metadata": {
  "kernelspec": {
   "display_name": "Python 3",
   "language": "python",
   "name": "python3"
  },
  "language_info": {
   "codemirror_mode": {
    "name": "ipython",
    "version": 3
   },
   "file_extension": ".py",
   "mimetype": "text/x-python",
   "name": "python",
   "nbconvert_exporter": "python",
   "pygments_lexer": "ipython3",
   "version": "3.7.1"
  }
 },
 "nbformat": 4,
 "nbformat_minor": 2
}
