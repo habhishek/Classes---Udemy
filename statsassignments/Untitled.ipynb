{
 "cells": [
  {
   "cell_type": "code",
   "execution_count": 8,
   "metadata": {},
   "outputs": [],
   "source": [
    "import numpy as np\n",
    "from scipy.stats import norm\n",
    "import matplotlib.pyplot as plt\n",
    "fig, ax = plt.subplots(1, 1)\n",
    "import seaborn as sns\n",
    "sns.set()\n",
    "%matplotlib inline"
   ]
  },
  {
   "cell_type": "code",
   "execution_count": 9,
   "metadata": {},
   "outputs": [],
   "source": [
    "mean, var, skew, kurt = norm.stats(moments='mvsk')"
   ]
  },
  {
   "cell_type": "code",
   "execution_count": 23,
   "metadata": {},
   "outputs": [
    {
     "data": {
      "text/plain": [
       "<matplotlib.axes._subplots.AxesSubplot at 0x2d257b3f9e8>"
      ]
     },
     "execution_count": 23,
     "metadata": {},
     "output_type": "execute_result"
    },
    {
     "data": {
      "image/png": "[encoded data removed]",
      "text/plain": [
       "<Figure size 432x288 with 1 Axes>"
      ]
     },
     "metadata": {
      "needs_background": "light"
     },
     "output_type": "display_data"
    }
   ],
   "source": [
    "x = np.linspace(norm.ppf(0.01), norm.ppf(0.99), 100)\n",
    "sns.lineplot(x, norm.pdf(x, loc=-1, scale=0.4))"
   ]
  },
  {
   "cell_type": "code",
   "execution_count": 18,
   "metadata": {},
   "outputs": [
    {
     "data": {
      "text/plain": [
       "array([-2.32634787, -2.27935095, -2.23235402, -2.18535709, -2.13836017,\n",
       "       -2.09136324, -2.04436631, -1.99736939, -1.95037246, -1.90337553,\n",
       "       -1.85637861, -1.80938168, -1.76238475, -1.71538783, -1.6683909 ,\n",
       "       -1.62139397, -1.57439705, -1.52740012, -1.48040319, -1.43340627,\n",
       "       -1.38640934, -1.33941241, -1.29241549, -1.24541856, -1.19842163,\n",
       "       -1.15142471, -1.10442778, -1.05743085, -1.01043393, -0.963437  ,\n",
       "       -0.91644007, -0.86944314, -0.82244622, -0.77544929, -0.72845236,\n",
       "       -0.68145544, -0.63445851, -0.58746158, -0.54046466, -0.49346773,\n",
       "       -0.4464708 , -0.39947388, -0.35247695, -0.30548002, -0.2584831 ,\n",
       "       -0.21148617, -0.16448924, -0.11749232, -0.07049539, -0.02349846,\n",
       "        0.02349846,  0.07049539,  0.11749232,  0.16448924,  0.21148617,\n",
       "        0.2584831 ,  0.30548002,  0.35247695,  0.39947388,  0.4464708 ,\n",
       "        0.49346773,  0.54046466,  0.58746158,  0.63445851,  0.68145544,\n",
       "        0.72845236,  0.77544929,  0.82244622,  0.86944314,  0.91644007,\n",
       "        0.963437  ,  1.01043393,  1.05743085,  1.10442778,  1.15142471,\n",
       "        1.19842163,  1.24541856,  1.29241549,  1.33941241,  1.38640934,\n",
       "        1.43340627,  1.48040319,  1.52740012,  1.57439705,  1.62139397,\n",
       "        1.6683909 ,  1.71538783,  1.76238475,  1.80938168,  1.85637861,\n",
       "        1.90337553,  1.95037246,  1.99736939,  2.04436631,  2.09136324,\n",
       "        2.13836017,  2.18535709,  2.23235402,  2.27935095,  2.32634787])"
      ]
     },
     "execution_count": 18,
     "metadata": {},
     "output_type": "execute_result"
    }
   ],
   "source": [
    "x"
   ]
  },
  {
   "cell_type": "code",
   "execution_count": 7,
   "metadata": {},
   "outputs": [
    {
     "data": {
      "text/plain": [
       "array([0.02665214, 0.0296985 , 0.03302004, 0.03663206, 0.04054955,\n",
       "       0.04478694, 0.049358  , 0.05427559, 0.05955143, 0.06519596,\n",
       "       0.07121803, 0.0776247 , 0.08442105, 0.09160987, 0.09919153,\n",
       "       0.1071637 , 0.11552116, 0.12425566, 0.13335569, 0.14280642,\n",
       "       0.1525895 , 0.16268307, 0.17306164, 0.18369615, 0.19455396,\n",
       "       0.20559893, 0.21679157, 0.22808919, 0.23944611, 0.25081392,\n",
       "       0.26214179, 0.2733768 , 0.28446433, 0.29534848, 0.30597253,\n",
       "       0.3162794 , 0.32621215, 0.33571453, 0.34473146, 0.35320956,\n",
       "       0.36109774, 0.3683476 , 0.37491403, 0.38075561, 0.38583507,\n",
       "       0.39011967, 0.39358159, 0.39619817, 0.39795222, 0.39883215,\n",
       "       0.39883215, 0.39795222, 0.39619817, 0.39358159, 0.39011967,\n",
       "       0.38583507, 0.38075561, 0.37491403, 0.3683476 , 0.36109774,\n",
       "       0.35320956, 0.34473146, 0.33571453, 0.32621215, 0.3162794 ,\n",
       "       0.30597253, 0.29534848, 0.28446433, 0.2733768 , 0.26214179,\n",
       "       0.25081392, 0.23944611, 0.22808919, 0.21679157, 0.20559893,\n",
       "       0.19455396, 0.18369615, 0.17306164, 0.16268307, 0.1525895 ,\n",
       "       0.14280642, 0.13335569, 0.12425566, 0.11552116, 0.1071637 ,\n",
       "       0.09919153, 0.09160987, 0.08442105, 0.0776247 , 0.07121803,\n",
       "       0.06519596, 0.05955143, 0.05427559, 0.049358  , 0.04478694,\n",
       "       0.04054955, 0.03663206, 0.03302004, 0.0296985 , 0.02665214])"
      ]
     },
     "execution_count": 7,
     "metadata": {},
     "output_type": "execute_result"
    }
   ],
   "source": [
    "norm.pdf(x)"
   ]
  },
  {
   "cell_type": "code",
   "execution_count": null,
   "metadata": {},
   "outputs": [],
   "source": []
  }
 ],
 "metadata": {
  "kernelspec": {
   "display_name": "Python 3",
   "language": "python",
   "name": "python3"
  },
  "language_info": {
   "codemirror_mode": {
    "name": "ipython",
    "version": 3
   },
   "file_extension": ".py",
   "mimetype": "text/x-python",
   "name": "python",
   "nbconvert_exporter": "python",
   "pygments_lexer": "ipython3",
   "version": "3.7.3"
  }
 },
 "nbformat": 4,
 "nbformat_minor": 2
}
